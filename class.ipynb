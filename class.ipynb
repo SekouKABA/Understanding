{
 "cells": [
  {
   "cell_type": "code",
   "execution_count": 62,
   "metadata": {},
   "outputs": [
    {
     "name": "stdout",
     "output_type": "stream",
     "text": [
      "Item(('Sekou', 14)) created\n",
      "Item(('Madou', 12)) created\n"
     ]
    }
   ],
   "source": [
    "class Item:\n",
    "    PAY_RATE = 0.8\n",
    "    def __init__(self, name:str = \"No name\", quantity:int = 0) -> None:\n",
    "        # Assert\n",
    "        assert quantity >=0, f\"Quantity {quantity} have to be greater than  or equal to zero\"\n",
    "        \n",
    "        # Assign arg\n",
    "        self.name = name\n",
    "        self.quantity = quantity\n",
    "    def __repr__(self) -> str:\n",
    "        return f\"Item({self.name, self.quantity}) created\"\n",
    "    \n",
    "\n",
    "    def result(self) -> str:\n",
    "        return f\"{self.name}: {self.quantity}\"\n",
    "def main():\n",
    "    # n = input(\"Name: \")\n",
    "    # n = \" \".join(n.split()).capitalize()\n",
    "    # a = int(input(\"Quantity: \").strip())\n",
    "    # print(Item(n, quantity = a).result())\n",
    "    # print(Item.__dict__) # All attributes for class level\n",
    "    # print(Item(\"sekou\", 45).__dict__) # All attributes for instance level\n",
    "    item1 = Item(\"Sekou\", 14)\n",
    "    item2 = Item(\"Madou\", 12)\n",
    "    print(item1)\n",
    "    print(item2)\n",
    "if __name__ ==  \"__main__\":\n",
    "    main()"
   ]
  },
  {
   "cell_type": "code",
   "execution_count": 14,
   "metadata": {},
   "outputs": [
    {
     "name": "stdout",
     "output_type": "stream",
     "text": [
      "{'a': 4, 'b': 4}\n",
      "(4, 5, 1, 2, 10)\n"
     ]
    },
    {
     "data": {
      "text/plain": [
       "30"
      ]
     },
     "execution_count": 14,
     "metadata": {},
     "output_type": "execute_result"
    }
   ],
   "source": [
    "def somme(*args, **kwargs):\n",
    "    print(kwargs)\n",
    "    print(args)\n",
    "    return sum(args) + sum(kwargs.values())\n",
    "\n",
    "somme(4, 5, 1, 2, 10, a = 4, b = 4)\n"
   ]
  },
  {
   "cell_type": "code",
   "execution_count": 114,
   "metadata": {},
   "outputs": [
    {
     "name": "stdout",
     "output_type": "stream",
     "text": [
      "{'ID': '1', ' Name': ' \"Mango\"', ' Price': ' 100'}\n",
      "{'ID': '2', ' Name': ' \"Orange\"', ' Price': ' 12'}\n",
      "{'ID': '3', ' Name': ' \"Banana\"', ' Price': ' 49'}\n"
     ]
    }
   ],
   "source": [
    "import csv\n",
    "\n",
    "with open(\"product.csv\", \"r\") as file:\n",
    "    products = csv.DictReader(file)\n",
    "    products = list(products)\n",
    "    for product in products: \n",
    "        print(product)"
   ]
  },
  {
   "cell_type": "code",
   "execution_count": 127,
   "metadata": {},
   "outputs": [
    {
     "name": "stdout",
     "output_type": "stream",
     "text": [
      "Testclass(10)\n",
      "Testclass(20)\n",
      "Before\n",
      "0\n",
      "After\n",
      "1\n",
      "This is a static metho\n",
      "This is a static metho\n"
     ]
    }
   ],
   "source": [
    "class Testclass:\n",
    "    class_attribut = 0\n",
    "    \n",
    "    def __init__(self, value:int) -> None:\n",
    "        self.value = value\n",
    "\n",
    "    @classmethod\n",
    "    def increment_class_method(cls):\n",
    "        cls.class_attribut += 1\n",
    "    \n",
    "    def get_value(self):\n",
    "        return self.value\n",
    "    \n",
    "    @staticmethod\n",
    "    def static_method():\n",
    "        print(\"This is a static metho\")\n",
    "    \n",
    "    def __repr__(self) -> str:\n",
    "        return f\"Testclass({self.value})\"\n",
    "\n",
    "obj1 = Testclass(10)\n",
    "obj2 = Testclass(20)\n",
    "print(obj1)\n",
    "print(obj2)\n",
    "print(\"Before\")\n",
    "print(Testclass.class_attribut)\n",
    "print(\"After\")\n",
    "Testclass.increment_class_method()\n",
    "print(Testclass.class_attribut)\n",
    "obj1.static_method()\n",
    "Testclass.static_method()"
   ]
  },
  {
   "cell_type": "code",
   "execution_count": 131,
   "metadata": {},
   "outputs": [],
   "source": [
    "class Person:\n",
    "    def __init__(self, name:str) -> None:\n",
    "        self._name = name\n",
    "    \n",
    "    @property\n",
    "    def name(self):\n",
    "        return self._name\n",
    "    \n",
    "    @name.setter\n",
    "    def name(self, new_name: str):\n",
    "        self._name = new_name\n"
   ]
  }
 ],
 "metadata": {
  "kernelspec": {
   "display_name": "base",
   "language": "python",
   "name": "python3"
  },
  "language_info": {
   "codemirror_mode": {
    "name": "ipython",
    "version": 3
   },
   "file_extension": ".py",
   "mimetype": "text/x-python",
   "name": "python",
   "nbconvert_exporter": "python",
   "pygments_lexer": "ipython3",
   "version": "3.9.13"
  }
 },
 "nbformat": 4,
 "nbformat_minor": 2
}
